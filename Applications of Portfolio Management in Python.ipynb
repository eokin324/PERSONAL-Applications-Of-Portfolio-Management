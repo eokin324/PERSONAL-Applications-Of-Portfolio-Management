{
 "cells": [
  {
   "cell_type": "markdown",
   "metadata": {},
   "source": [
    "## Applications of Portfolio Management in Python"
   ]
  },
  {
   "cell_type": "markdown",
   "metadata": {},
   "source": [
    "### By Evan Okin"
   ]
  },
  {
   "cell_type": "markdown",
   "metadata": {},
   "source": [
    "### February 2020"
   ]
  },
  {
   "cell_type": "markdown",
   "metadata": {},
   "source": [
    "This report contains 8 one-pagers designed to showcase examples of how Python can be used to assist a portfolio manager. Generally, Python is a lot more efficient than Excel, which allows the portfolio manager to spend more time on what matters.\n",
    "\n",
    "The one-pagers are designed to give a high-level overview of the benefits of Python. The following are the 8 sections for the one-pagers:\n",
    "\n",
    "Section 1: Use an API to pull in and analyze stock returns\n",
    "\n",
    "Section 2: Find an “optimized” portfolio based on a set objective, such as maximizing Sharpe Ratio\n",
    "\n",
    "Section 3: Create an options pricing calculator to value calls or puts using Black-Scholes\n",
    "\n",
    "Section 4: Run Monte Carlo simulations of returns to assess portfolio volatility\n",
    "\n",
    "Section 5: Create a robo-advisor based on individual preferences and risk capacity\n",
    "\n",
    "Section 6: Test a hypothesis, such as if tech stocks outperform health care stocks\n",
    "\n",
    "Section 7: Hedge a portfolio such that its exposed duration becomes nearly zero\n",
    "\n",
    "Section 8: Apply Machine Learning algorithms to predict stock price"
   ]
  },
  {
   "cell_type": "code",
   "execution_count": null,
   "metadata": {},
   "outputs": [],
   "source": []
  },
  {
   "cell_type": "code",
   "execution_count": null,
   "metadata": {},
   "outputs": [],
   "source": []
  },
  {
   "cell_type": "code",
   "execution_count": null,
   "metadata": {},
   "outputs": [],
   "source": []
  },
  {
   "cell_type": "code",
   "execution_count": null,
   "metadata": {},
   "outputs": [],
   "source": []
  },
  {
   "cell_type": "code",
   "execution_count": null,
   "metadata": {},
   "outputs": [],
   "source": []
  },
  {
   "cell_type": "code",
   "execution_count": null,
   "metadata": {},
   "outputs": [],
   "source": []
  },
  {
   "cell_type": "code",
   "execution_count": null,
   "metadata": {},
   "outputs": [],
   "source": []
  },
  {
   "cell_type": "code",
   "execution_count": null,
   "metadata": {},
   "outputs": [],
   "source": []
  },
  {
   "cell_type": "markdown",
   "metadata": {},
   "source": [
    "### Section 1: Use an API to pull in and analyze stock returns"
   ]
  },
  {
   "cell_type": "code",
   "execution_count": 1,
   "metadata": {},
   "outputs": [],
   "source": [
    "import pandas as pd\n",
    "import numpy as np\n",
    "import datetime\n",
    "import pandas_datareader.data as web"
   ]
  },
  {
   "cell_type": "code",
   "execution_count": 2,
   "metadata": {},
   "outputs": [],
   "source": [
    "import warnings\n",
    "warnings.simplefilter(\"ignore\")"
   ]
  },
  {
   "cell_type": "code",
   "execution_count": 3,
   "metadata": {},
   "outputs": [],
   "source": [
    "df=pd.read_excel('S&P500.xlsx')"
   ]
  },
  {
   "cell_type": "code",
   "execution_count": 4,
   "metadata": {},
   "outputs": [],
   "source": [
    "list_of_stocks_to_pull=list(df['Symbol'])"
   ]
  },
  {
   "cell_type": "code",
   "execution_count": 5,
   "metadata": {
    "scrolled": true
   },
   "outputs": [],
   "source": [
    "list_of_stocks_to_pull=['AAPL','GOOG','FB']\n",
    "start=datetime.datetime(2019,10,1) \n",
    "end=datetime.datetime(2020,2,1)\n",
    "df=web.get_data_yahoo(list_of_stocks_to_pull, start, end,interval='m')"
   ]
  },
  {
   "cell_type": "code",
   "execution_count": 6,
   "metadata": {},
   "outputs": [
    {
     "data": {
      "text/html": [
       "<div>\n",
       "<style scoped>\n",
       "    .dataframe tbody tr th:only-of-type {\n",
       "        vertical-align: middle;\n",
       "    }\n",
       "\n",
       "    .dataframe tbody tr th {\n",
       "        vertical-align: top;\n",
       "    }\n",
       "\n",
       "    .dataframe thead th {\n",
       "        text-align: right;\n",
       "    }\n",
       "</style>\n",
       "<table border=\"1\" class=\"dataframe\">\n",
       "  <thead>\n",
       "    <tr style=\"text-align: right;\">\n",
       "      <th>Symbols</th>\n",
       "      <th>AAPL</th>\n",
       "      <th>FB</th>\n",
       "      <th>GOOG</th>\n",
       "    </tr>\n",
       "    <tr>\n",
       "      <th>Date</th>\n",
       "      <th></th>\n",
       "      <th></th>\n",
       "      <th></th>\n",
       "    </tr>\n",
       "  </thead>\n",
       "  <tbody>\n",
       "    <tr>\n",
       "      <th>2019-10-01</th>\n",
       "      <td>247.428162</td>\n",
       "      <td>191.649994</td>\n",
       "      <td>1260.109985</td>\n",
       "    </tr>\n",
       "    <tr>\n",
       "      <th>2019-11-01</th>\n",
       "      <td>265.819183</td>\n",
       "      <td>201.639999</td>\n",
       "      <td>1304.959961</td>\n",
       "    </tr>\n",
       "    <tr>\n",
       "      <th>2019-12-01</th>\n",
       "      <td>292.954712</td>\n",
       "      <td>205.250000</td>\n",
       "      <td>1337.020020</td>\n",
       "    </tr>\n",
       "  </tbody>\n",
       "</table>\n",
       "</div>"
      ],
      "text/plain": [
       "Symbols           AAPL          FB         GOOG\n",
       "Date                                           \n",
       "2019-10-01  247.428162  191.649994  1260.109985\n",
       "2019-11-01  265.819183  201.639999  1304.959961\n",
       "2019-12-01  292.954712  205.250000  1337.020020"
      ]
     },
     "execution_count": 6,
     "metadata": {},
     "output_type": "execute_result"
    }
   ],
   "source": [
    "df=(web.get_data_yahoo(list_of_stocks_to_pull, start, \n",
    "                       end,interval='m')['Adj Close'])\n",
    "df.head(3)"
   ]
  },
  {
   "cell_type": "code",
   "execution_count": 7,
   "metadata": {},
   "outputs": [
    {
     "data": {
      "text/html": [
       "<div>\n",
       "<style scoped>\n",
       "    .dataframe tbody tr th:only-of-type {\n",
       "        vertical-align: middle;\n",
       "    }\n",
       "\n",
       "    .dataframe tbody tr th {\n",
       "        vertical-align: top;\n",
       "    }\n",
       "\n",
       "    .dataframe thead th {\n",
       "        text-align: right;\n",
       "    }\n",
       "</style>\n",
       "<table border=\"1\" class=\"dataframe\">\n",
       "  <thead>\n",
       "    <tr style=\"text-align: right;\">\n",
       "      <th>Symbols</th>\n",
       "      <th>AAPL</th>\n",
       "      <th>FB</th>\n",
       "      <th>GOOG</th>\n",
       "    </tr>\n",
       "    <tr>\n",
       "      <th>Date</th>\n",
       "      <th></th>\n",
       "      <th></th>\n",
       "      <th></th>\n",
       "    </tr>\n",
       "  </thead>\n",
       "  <tbody>\n",
       "    <tr>\n",
       "      <th>2019-11-01</th>\n",
       "      <td>0.074329</td>\n",
       "      <td>0.052126</td>\n",
       "      <td>0.035592</td>\n",
       "    </tr>\n",
       "    <tr>\n",
       "      <th>2019-12-01</th>\n",
       "      <td>0.102083</td>\n",
       "      <td>0.017903</td>\n",
       "      <td>0.024568</td>\n",
       "    </tr>\n",
       "    <tr>\n",
       "      <th>2020-01-01</th>\n",
       "      <td>0.054010</td>\n",
       "      <td>-0.016273</td>\n",
       "      <td>0.072706</td>\n",
       "    </tr>\n",
       "  </tbody>\n",
       "</table>\n",
       "</div>"
      ],
      "text/plain": [
       "Symbols         AAPL        FB      GOOG\n",
       "Date                                    \n",
       "2019-11-01  0.074329  0.052126  0.035592\n",
       "2019-12-01  0.102083  0.017903  0.024568\n",
       "2020-01-01  0.054010 -0.016273  0.072706"
      ]
     },
     "execution_count": 7,
     "metadata": {},
     "output_type": "execute_result"
    }
   ],
   "source": [
    "df=df.pct_change()\n",
    "df=df.dropna()\n",
    "df.head(3)"
   ]
  },
  {
   "cell_type": "code",
   "execution_count": null,
   "metadata": {},
   "outputs": [],
   "source": []
  },
  {
   "cell_type": "code",
   "execution_count": null,
   "metadata": {},
   "outputs": [],
   "source": []
  },
  {
   "cell_type": "code",
   "execution_count": null,
   "metadata": {},
   "outputs": [],
   "source": []
  },
  {
   "cell_type": "markdown",
   "metadata": {},
   "source": [
    "### Section 2: Find an “optimized” portfolio based on a set objective, such as maximizing Sharpe Ratio"
   ]
  },
  {
   "cell_type": "code",
   "execution_count": 8,
   "metadata": {},
   "outputs": [],
   "source": [
    "import pandas as pd\n",
    "import numpy as np\n",
    "from pypfopt.efficient_frontier import EfficientFrontier\n",
    "from pypfopt import risk_models\n",
    "from pypfopt import expected_returns"
   ]
  },
  {
   "cell_type": "code",
   "execution_count": 9,
   "metadata": {},
   "outputs": [],
   "source": [
    "df=pd.read_excel('HistoricalReturns.xlsx',header=1)\n",
    "df=df.drop([0])\n",
    "df.to_excel(\"AdjustedReturns.xlsx\") \n",
    "df.drop('Symbols',axis=1,inplace=True)\n",
    "df[df<0]=np.nan\n",
    "df.dropna(axis=1,inplace=True)"
   ]
  },
  {
   "cell_type": "code",
   "execution_count": 10,
   "metadata": {},
   "outputs": [
    {
     "name": "stdout",
     "output_type": "stream",
     "text": [
      "{'AAPL': 0.0, 'ACN': 0.0, 'ADBE': 0.0, 'ADP': 0.32207, 'ADSK': 0.0, 'AKAM': 0.0, 'ANSS': 0.0, 'CSCO': 0.0, 'CTSH': 0.0, 'CTXS': 0.19372, 'FIS': 0.0, 'FISV': 0.29363, 'FTNT': 0.0, 'HPQ': 0.0, 'IBM': 0.0, 'INTC': 0.0, 'INTU': 0.0, 'JKHY': 0.0, 'JNPR': 0.0, 'KLAC': 0.0, 'MA': 0.19058, 'MSI': 0.0, 'NVDA': 0.0, 'PAYX': 0.0, 'SNPS': 0.0, 'STX': 0.0}\n"
     ]
    }
   ],
   "source": [
    "mu = expected_returns.mean_historical_return(df)\n",
    "S = risk_models.sample_cov(df)\n",
    "ef = EfficientFrontier(mu, S)\n",
    "raw_weights = ef.max_sharpe()\n",
    "cleaned_weights = ef.clean_weights()\n",
    "ef.save_weights_to_file(\"weights.csv\")\n",
    "print(cleaned_weights)"
   ]
  },
  {
   "cell_type": "code",
   "execution_count": 11,
   "metadata": {},
   "outputs": [
    {
     "data": {
      "text/html": [
       "<div>\n",
       "<style scoped>\n",
       "    .dataframe tbody tr th:only-of-type {\n",
       "        vertical-align: middle;\n",
       "    }\n",
       "\n",
       "    .dataframe tbody tr th {\n",
       "        vertical-align: top;\n",
       "    }\n",
       "\n",
       "    .dataframe thead th {\n",
       "        text-align: right;\n",
       "    }\n",
       "</style>\n",
       "<table border=\"1\" class=\"dataframe\">\n",
       "  <thead>\n",
       "    <tr style=\"text-align: right;\">\n",
       "      <th></th>\n",
       "      <th>Company_Name</th>\n",
       "      <th>Optimal_Portfolio_Weight</th>\n",
       "    </tr>\n",
       "  </thead>\n",
       "  <tbody>\n",
       "    <tr>\n",
       "      <th>3</th>\n",
       "      <td>ADP</td>\n",
       "      <td>0.32207</td>\n",
       "    </tr>\n",
       "    <tr>\n",
       "      <th>9</th>\n",
       "      <td>CTXS</td>\n",
       "      <td>0.19372</td>\n",
       "    </tr>\n",
       "    <tr>\n",
       "      <th>11</th>\n",
       "      <td>FISV</td>\n",
       "      <td>0.29363</td>\n",
       "    </tr>\n",
       "    <tr>\n",
       "      <th>20</th>\n",
       "      <td>MA</td>\n",
       "      <td>0.19058</td>\n",
       "    </tr>\n",
       "  </tbody>\n",
       "</table>\n",
       "</div>"
      ],
      "text/plain": [
       "   Company_Name  Optimal_Portfolio_Weight\n",
       "3           ADP                   0.32207\n",
       "9          CTXS                   0.19372\n",
       "11         FISV                   0.29363\n",
       "20           MA                   0.19058"
      ]
     },
     "execution_count": 11,
     "metadata": {},
     "output_type": "execute_result"
    }
   ],
   "source": [
    "df=pd.read_csv('weights.csv',header=-1)\n",
    "df.rename(columns={0:'Company_Name',\n",
    "                   1:'Optimal_Portfolio_Weight'},inplace=True)\n",
    "optimal_weights=df[df['Optimal_Portfolio_Weight']!=0]\n",
    "optimal_weights"
   ]
  },
  {
   "cell_type": "code",
   "execution_count": null,
   "metadata": {},
   "outputs": [],
   "source": []
  },
  {
   "cell_type": "code",
   "execution_count": null,
   "metadata": {},
   "outputs": [],
   "source": []
  },
  {
   "cell_type": "code",
   "execution_count": null,
   "metadata": {},
   "outputs": [],
   "source": []
  },
  {
   "cell_type": "code",
   "execution_count": null,
   "metadata": {},
   "outputs": [],
   "source": []
  },
  {
   "cell_type": "markdown",
   "metadata": {},
   "source": [
    "### Section 3: Create an options pricing calculator to value calls or puts using Black-Scholes"
   ]
  },
  {
   "cell_type": "code",
   "execution_count": 12,
   "metadata": {},
   "outputs": [],
   "source": [
    "import math\n",
    "import scipy.stats as stats\n",
    "import matplotlib.pyplot as plt\n",
    "%matplotlib inline"
   ]
  },
  {
   "cell_type": "code",
   "execution_count": 13,
   "metadata": {},
   "outputs": [],
   "source": [
    "def Call_Price(t,r,vol,S,K): #Black-Scholes\n",
    "    d1 = (1 / vol*math.sqrt(t)) * (math.log(S/K) + (r+((vol**2)/2))*t)\n",
    "    d2 = d1 - vol*math.sqrt(t)\n",
    "    N_d1 = stats.norm.cdf(d1)\n",
    "    N_d2 = stats.norm.cdf(d2)\n",
    "    Call_Price = round((N_d1 * S) - (N_d2 * K * math.exp(-r*t)),2)\n",
    "    return(Call_Price)"
   ]
  },
  {
   "cell_type": "code",
   "execution_count": 14,
   "metadata": {},
   "outputs": [],
   "source": [
    "volatility_amount, call_amount= ([] for i in range(2))\n",
    "for i in range(5,100,5):\n",
    "    volatility_amount.append(i/100)\n",
    "    call_amount.append(Call_Price(1,.05,i/100,100,110))"
   ]
  },
  {
   "cell_type": "code",
   "execution_count": 15,
   "metadata": {},
   "outputs": [
    {
     "data": {
      "text/plain": [
       "Text(0, -50, 'T: 1 Year, R: 5%, S: 100, K: 110')"
      ]
     },
     "execution_count": 15,
     "metadata": {},
     "output_type": "execute_result"
    },
    {
     "data": {
      "image/png": "[encoded data removed]",
      "text/plain": [
       "<Figure size 432x288 with 1 Axes>"
      ]
     },
     "metadata": {
      "needs_background": "light"
     },
     "output_type": "display_data"
    }
   ],
   "source": [
    "plt.plot(volatility_amount,call_amount)\n",
    "plt.title('Black-Scholes Call Prices As A Function of Volatility')\n",
    "plt.xlabel('Volatility')\n",
    "plt.ylabel('Call Price($)')\n",
    "plt.annotate('T: 1 Year, R: 5%, S: 100, K: 110', (0,0), (0, -50), \n",
    "             xycoords='axes fraction', textcoords='offset points')"
   ]
  },
  {
   "cell_type": "code",
   "execution_count": null,
   "metadata": {},
   "outputs": [],
   "source": []
  },
  {
   "cell_type": "code",
   "execution_count": null,
   "metadata": {},
   "outputs": [],
   "source": []
  },
  {
   "cell_type": "code",
   "execution_count": null,
   "metadata": {},
   "outputs": [],
   "source": []
  },
  {
   "cell_type": "markdown",
   "metadata": {},
   "source": [
    "### Section 4: Run Monte Carlo simulations of returns to assess portfolio volatility"
   ]
  },
  {
   "cell_type": "code",
   "execution_count": 16,
   "metadata": {},
   "outputs": [],
   "source": [
    "import pandas as pd\n",
    "import numpy as np\n",
    "import matplotlib.pyplot as plt\n",
    "%matplotlib inline\n",
    "import seaborn as sns"
   ]
  },
  {
   "cell_type": "code",
   "execution_count": 17,
   "metadata": {},
   "outputs": [
    {
     "name": "stdout",
     "output_type": "stream",
     "text": [
      "Max Account Value    1621.839633\n",
      "dtype: float64\n",
      "Min Account Value    762.763602\n",
      "dtype: float64\n"
     ]
    },
    {
     "data": {
      "image/png": "[encoded data removed]",
      "text/plain": [
       "<Figure size 432x288 with 1 Axes>"
      ]
     },
     "metadata": {
      "needs_background": "light"
     },
     "output_type": "display_data"
    }
   ],
   "source": [
    "p=np.random.normal(.10,.20,1000)\n",
    "t=np.random.normal(.20,.125,1000)\n",
    "g=np.random.normal(.15,.30,1000)\n",
    "sns.distplot(p)\n",
    "sns.distplot(t)\n",
    "sns.distplot(g)\n",
    "plt.xlabel('Standard Normal Distribution of Returns')\n",
    "plt.ylabel('Count')\n",
    "plt.legend(['Proctor & Gamble','AT&T','Goldman Sachs'])\n",
    "plt.title('Distribution of Stock Returns')\n",
    "AV_returns=[]\n",
    "for i in range(1000):\n",
    "    AV_returns=[(1000/3)*(1+p)+(1000/3)*(1+t)+(1000/3)*(1+g)]\n",
    "df=pd.DataFrame(AV_returns).T\n",
    "df.rename(columns={0:'Account Value'},inplace=True)\n",
    "print('Max '+ str(df.max()))\n",
    "print('Min '+ str(df.min()))"
   ]
  },
  {
   "cell_type": "code",
   "execution_count": null,
   "metadata": {},
   "outputs": [],
   "source": []
  },
  {
   "cell_type": "code",
   "execution_count": null,
   "metadata": {},
   "outputs": [],
   "source": []
  },
  {
   "cell_type": "markdown",
   "metadata": {},
   "source": [
    "### Section 5: Create a robo-advisor based on individual preferences and risk capacity"
   ]
  },
  {
   "cell_type": "code",
   "execution_count": 18,
   "metadata": {},
   "outputs": [
    {
     "name": "stdout",
     "output_type": "stream",
     "text": [
      "Hello, Welcome to Mini-Advisor.\n"
     ]
    }
   ],
   "source": [
    "print('Hello, Welcome to Mini-Advisor.')"
   ]
  },
  {
   "cell_type": "code",
   "execution_count": 19,
   "metadata": {},
   "outputs": [
    {
     "name": "stdout",
     "output_type": "stream",
     "text": [
      "How would you define your risk tolerance?:Aggressive\n"
     ]
    }
   ],
   "source": [
    "risk_tolerance='risk_tolerance'\n",
    "while ((risk_tolerance!='Aggressive') & \n",
    "    (risk_tolerance!='Conservative')):\n",
    "    risk_tolerance=input('How would you define your risk tolerance?:')\n",
    "# (Aggressive, Conservative)"
   ]
  },
  {
   "cell_type": "code",
   "execution_count": 20,
   "metadata": {},
   "outputs": [
    {
     "name": "stdout",
     "output_type": "stream",
     "text": [
      "How much liquid assets do you have)?:1-5M\n"
     ]
    }
   ],
   "source": [
    "risk_capacity='risk_capacity'\n",
    "while ((risk_capacity!='<1M') & (risk_capacity!='1-5M') & \n",
    "    (risk_capacity!='5+M')):\n",
    "    risk_capacity=input('How much liquid assets do you have)?:') \n",
    "#   (<1M,1-5M,5+M))"
   ]
  },
  {
   "cell_type": "code",
   "execution_count": 21,
   "metadata": {},
   "outputs": [
    {
     "name": "stdout",
     "output_type": "stream",
     "text": [
      "Portfolio: Partially High-Risk Stocks, Partially S&P ETF\n"
     ]
    }
   ],
   "source": [
    "if (risk_tolerance=='Aggressive') & (risk_capacity=='5+M'):\n",
    "    print('Portfolio: Predominantly High-Risk Stocks')\n",
    "elif (risk_tolerance=='Aggressive') & (risk_capacity=='1-5M'):\n",
    "    print('Portfolio: Partially High-Risk Stocks, Partially S&P ETF')\n",
    "elif (risk_tolerance=='Aggressive') & (risk_capacity=='<1M'):\n",
    "    print('Portfolio: Predominantly S&P 500 ETF')\n",
    "elif (risk_tolerance=='Conservative') & (risk_capacity=='5+M'):\n",
    "    print('Portfolio: Predominantly S&P 500 ETF')\n",
    "elif (risk_tolerance=='Conservative') & (risk_capacity=='1-5M'):\n",
    "    print('Portfolio: Predominantly S&P 500 ETF')\n",
    "else:\n",
    "    print('Portfolio: Predominantly Treasury Bonds')"
   ]
  },
  {
   "cell_type": "code",
   "execution_count": null,
   "metadata": {},
   "outputs": [],
   "source": []
  },
  {
   "cell_type": "code",
   "execution_count": null,
   "metadata": {},
   "outputs": [],
   "source": []
  },
  {
   "cell_type": "code",
   "execution_count": null,
   "metadata": {},
   "outputs": [],
   "source": []
  },
  {
   "cell_type": "code",
   "execution_count": null,
   "metadata": {},
   "outputs": [],
   "source": []
  },
  {
   "cell_type": "code",
   "execution_count": null,
   "metadata": {},
   "outputs": [],
   "source": []
  },
  {
   "cell_type": "code",
   "execution_count": null,
   "metadata": {},
   "outputs": [],
   "source": []
  },
  {
   "cell_type": "code",
   "execution_count": null,
   "metadata": {},
   "outputs": [],
   "source": []
  },
  {
   "cell_type": "markdown",
   "metadata": {},
   "source": [
    "### Section 6: Test a hypothesis, such as if tech stocks outperform health care stocks"
   ]
  },
  {
   "cell_type": "code",
   "execution_count": 22,
   "metadata": {},
   "outputs": [],
   "source": [
    "import pandas as pd\n",
    "import numpy as np\n",
    "from scipy import stats\n",
    "import statsmodels.api as sm\n",
    "from statsmodels.formula.api import ols"
   ]
  },
  {
   "cell_type": "code",
   "execution_count": 23,
   "metadata": {},
   "outputs": [],
   "source": [
    "tech_returns=pd.read_excel('Hypothesis_Test.xlsx',sheetname='Tech')\n",
    "health_care_returns=pd.read_excel('Hypothesis_Test.xlsx',\n",
    "                                  sheetname='Health_Care')"
   ]
  },
  {
   "cell_type": "markdown",
   "metadata": {},
   "source": [
    "Null hypothesis (Ho): There is no significant difference in returns\n",
    "\n",
    "Alternative hypothesis (Ha): There is a significant difference in returns"
   ]
  },
  {
   "cell_type": "code",
   "execution_count": 24,
   "metadata": {},
   "outputs": [],
   "source": [
    "control=tech_returns['Percent Return']\n",
    "experimental=health_care_returns['Percent Return']"
   ]
  },
  {
   "cell_type": "code",
   "execution_count": 25,
   "metadata": {},
   "outputs": [
    {
     "data": {
      "text/plain": [
       "9.756793479463854"
      ]
     },
     "execution_count": 25,
     "metadata": {},
     "output_type": "execute_result"
    }
   ],
   "source": [
    "control.mean()"
   ]
  },
  {
   "cell_type": "code",
   "execution_count": 26,
   "metadata": {},
   "outputs": [
    {
     "data": {
      "text/plain": [
       "4.281198379267195"
      ]
     },
     "execution_count": 26,
     "metadata": {},
     "output_type": "execute_result"
    }
   ],
   "source": [
    "experimental.mean()"
   ]
  },
  {
   "cell_type": "code",
   "execution_count": 27,
   "metadata": {},
   "outputs": [
    {
     "data": {
      "text/plain": [
       "-5.475595100196658"
      ]
     },
     "execution_count": 27,
     "metadata": {},
     "output_type": "execute_result"
    }
   ],
   "source": [
    "experimental.mean()-control.mean()"
   ]
  },
  {
   "cell_type": "code",
   "execution_count": 28,
   "metadata": {},
   "outputs": [
    {
     "data": {
      "text/plain": [
       "Ttest_indResult(statistic=-3.7585177072659626, pvalue=0.00047066769250311336)"
      ]
     },
     "execution_count": 28,
     "metadata": {},
     "output_type": "execute_result"
    }
   ],
   "source": [
    "stats.ttest_ind(experimental, control,equal_var=False)"
   ]
  },
  {
   "cell_type": "markdown",
   "metadata": {},
   "source": [
    "The p-value is extremely small, far less than a typical 5% threshold.\n",
    "\n",
    "We reject the null hypothesis. Results are statistically significant with p-value nearly 0.\n",
    "\n",
    "Tech stocks have a significantly different returns profile than health care stocks."
   ]
  },
  {
   "cell_type": "code",
   "execution_count": null,
   "metadata": {},
   "outputs": [],
   "source": []
  },
  {
   "cell_type": "code",
   "execution_count": null,
   "metadata": {},
   "outputs": [],
   "source": []
  },
  {
   "cell_type": "code",
   "execution_count": null,
   "metadata": {},
   "outputs": [],
   "source": []
  },
  {
   "cell_type": "code",
   "execution_count": null,
   "metadata": {},
   "outputs": [],
   "source": []
  },
  {
   "cell_type": "markdown",
   "metadata": {},
   "source": [
    "### Section 7: Hedge a portfolio such that its exposed duration becomes nearly zero"
   ]
  },
  {
   "cell_type": "code",
   "execution_count": 29,
   "metadata": {},
   "outputs": [],
   "source": [
    "import pandas as pd\n",
    "import numpy as np"
   ]
  },
  {
   "cell_type": "markdown",
   "metadata": {},
   "source": [
    "Suppose a portfolio has the following key rate durations:"
   ]
  },
  {
   "cell_type": "code",
   "execution_count": 30,
   "metadata": {},
   "outputs": [],
   "source": [
    "KRD=pd.read_excel('Duration_Hedge.xlsx',sheetname='Sheet1')\n",
    "Futures=pd.read_excel('Duration_Hedge.xlsx',sheetname='Sheet2')"
   ]
  },
  {
   "cell_type": "markdown",
   "metadata": {},
   "source": [
    "We can buy/sell futures contracts to bring the net DV01 of the hedged portfolio to near zero."
   ]
  },
  {
   "cell_type": "code",
   "execution_count": 31,
   "metadata": {},
   "outputs": [],
   "source": [
    "Futures['2yr']=Futures['2yr']/100\n",
    "Futures['5yr']=Futures['5yr']/100\n",
    "Futures['10yr']=Futures['10yr']/100\n",
    "Futures['Long Bond']=Futures['Long Bond']/100"
   ]
  },
  {
   "cell_type": "code",
   "execution_count": 32,
   "metadata": {},
   "outputs": [],
   "source": [
    "n_long_futures=-KRD['Long Bond']/Futures.iloc[3]['Long Bond']"
   ]
  },
  {
   "cell_type": "code",
   "execution_count": 33,
   "metadata": {},
   "outputs": [],
   "source": [
    "n_10yr_futures=-((KRD['10yr']+n_long_futures*Futures.iloc[3]['10yr'])/\n",
    "                Futures.iloc[2]['10yr'])"
   ]
  },
  {
   "cell_type": "code",
   "execution_count": 34,
   "metadata": {},
   "outputs": [],
   "source": [
    "n_5yr_futures=-((KRD['5yr']+n_long_futures*Futures.iloc[3]['5yr']\n",
    "                +n_10yr_futures*Futures.iloc[2]['5yr'])/\n",
    "                Futures.iloc[1]['5yr'])"
   ]
  },
  {
   "cell_type": "code",
   "execution_count": 35,
   "metadata": {},
   "outputs": [],
   "source": [
    "n_2yr_futures=-((KRD['2yr']+n_long_futures*Futures.iloc[3]['2yr']\n",
    "                +n_10yr_futures*Futures.iloc[2]['2yr']\n",
    "                +n_5yr_futures*Futures.iloc[1]['2yr'])/\n",
    "                Futures.iloc[0]['2yr'])"
   ]
  },
  {
   "cell_type": "code",
   "execution_count": 36,
   "metadata": {},
   "outputs": [
    {
     "name": "stdout",
     "output_type": "stream",
     "text": [
      "Hedge Portfolio with: \n",
      "2 Year Futures: -49.44683050818985\n",
      "5 Year Futures: -39.72044603223938\n",
      "10 Year Futures: -9.89272155854012\n",
      "Long Futures: -8.060605871700323\n",
      "Positive: Long Position, Negative: Short Position\n"
     ]
    }
   ],
   "source": [
    "print('Hedge Portfolio with: ')\n",
    "print('2 Year Futures: ' +str(n_2yr_futures[0]))\n",
    "print('5 Year Futures: ' +str(n_5yr_futures[0]))\n",
    "print('10 Year Futures: ' +str(n_10yr_futures[0]))\n",
    "print('Long Futures: ' + str(n_long_futures[0]))\n",
    "print('Positive: Long Position, Negative: Short Position')"
   ]
  },
  {
   "cell_type": "code",
   "execution_count": null,
   "metadata": {},
   "outputs": [],
   "source": []
  },
  {
   "cell_type": "code",
   "execution_count": null,
   "metadata": {},
   "outputs": [],
   "source": []
  },
  {
   "cell_type": "markdown",
   "metadata": {},
   "source": [
    "### Section 8: Apply Machine Learning algorithms to predict stock price"
   ]
  },
  {
   "cell_type": "code",
   "execution_count": 37,
   "metadata": {},
   "outputs": [],
   "source": [
    "import pandas as pd\n",
    "import numpy as np\n",
    "import datetime\n",
    "from sklearn.model_selection import train_test_split\n",
    "from sklearn.linear_model import LinearRegression\n",
    "from sklearn import metrics\n",
    "from sklearn.tree import DecisionTreeClassifier\n",
    "from sklearn.metrics import confusion_matrix\n",
    "import seaborn as sns\n",
    "import matplotlib.pyplot as plt"
   ]
  },
  {
   "cell_type": "code",
   "execution_count": 38,
   "metadata": {},
   "outputs": [
    {
     "data": {
      "text/plain": [
       "Text(33.0, 0.5, 'True Value')"
      ]
     },
     "execution_count": 38,
     "metadata": {},
     "output_type": "execute_result"
    },
    {
     "data": {
      "image/png": "[encoded data removed]",
      "text/plain": [
       "<Figure size 432x288 with 2 Axes>"
      ]
     },
     "metadata": {
      "needs_background": "light"
     },
     "output_type": "display_data"
    }
   ],
   "source": [
    "df=pd.read_excel('AAPL_ML.xlsx')\n",
    "x=df.loc[:,['High','Low','Open','Volume']]\n",
    "y=df.loc[:,'Adj Close']\n",
    "x_train,x_test,y_train,y_test = train_test_split(x,y,test_size = 0.3)\n",
    "lm=LinearRegression()\n",
    "lm.fit(x_train,y_train)\n",
    "predictions=lm.predict(x_test)\n",
    "y=df.loc[:,'Increase']\n",
    "x_train,x_test,y_train,y_test = train_test_split(x,y,test_size = 0.3)\n",
    "dtree = DecisionTreeClassifier()\n",
    "dtree.fit(x_train,y_train)\n",
    "predictions=dtree.predict(x_test)\n",
    "sns.heatmap(confusion_matrix(y_test,predictions),annot=True)\n",
    "plt.xlabel('Predicted Value')\n",
    "plt.ylabel('True Value')"
   ]
  },
  {
   "cell_type": "code",
   "execution_count": null,
   "metadata": {},
   "outputs": [],
   "source": []
  }
 ],
 "metadata": {
  "kernelspec": {
   "display_name": "Python 3",
   "language": "python",
   "name": "python3"
  },
  "language_info": {
   "codemirror_mode": {
    "name": "ipython",
    "version": 3
   },
   "file_extension": ".py",
   "mimetype": "text/x-python",
   "name": "python",
   "nbconvert_exporter": "python",
   "pygments_lexer": "ipython3",
   "version": "3.7.3"
  }
 },
 "nbformat": 4,
 "nbformat_minor": 2
}
